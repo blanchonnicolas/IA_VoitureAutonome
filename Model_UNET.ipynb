{
 "cells": [
  {
   "cell_type": "code",
   "execution_count": 1,
   "id": "7b74e6e3",
   "metadata": {},
   "outputs": [
    {
     "name": "stdout",
     "output_type": "stream",
     "text": [
      "Segmentation Models: using `tf.keras` framework.\n",
      "Functions have been properly imported !\n"
     ]
    }
   ],
   "source": [
    "#Import functions createdon my side\n",
    "from Functions_custo_by_Nico import * \n",
    "#import seaborn\n",
    "#from matplotlib.image import imread\n",
    "\n",
    "import cv2\n",
    "import albumentations as A\n",
    "\n",
    "import segmentation_models as sm #Check here: https://segmentation-models.readthedocs.io/en/latest/api.html\n",
    "# calling functions\n",
    "Test_Imported_Functions()"
   ]
  },
  {
   "cell_type": "code",
   "execution_count": 2,
   "id": "c14a9a91",
   "metadata": {},
   "outputs": [],
   "source": [
    "import skimage.io as io\n",
    "import skimage.transform as trans\n",
    "\n",
    "import tensorflow as tf\n",
    "from tensorflow import keras\n",
    "from tensorflow.keras import layers, utils\n",
    "from tensorflow.python.keras import backend as K\n",
    "from tensorflow.python.keras.losses import categorical_crossentropy, binary_crossentropy\n",
    "from tensorflow.python.keras.callbacks import TensorBoard, ModelCheckpoint, EarlyStopping, ReduceLROnPlateau\n",
    "\n",
    "from tensorflow.keras.models import Model\n",
    "\n",
    "\n",
    "import segmentation_models as sm\n",
    "\n",
    "# from tensorflow.keras.models import *\n",
    "# from tensorflow.keras.layers import *\n",
    "from tensorflow.keras.utils import Sequence\n",
    "from tensorflow.keras.utils import to_categorical\n",
    "\n",
    "from tensorflow.keras.optimizers import *\n",
    "from tensorflow.keras.callbacks import ModelCheckpoint, LearningRateScheduler\n",
    "\n",
    "\n",
    "from tensorflow.keras.layers import Input, Conv2D, MaxPooling2D, UpSampling2D, concatenate, Conv2DTranspose, BatchNormalization, Dropout, Lambda\n",
    "from tensorflow.keras.layers import Activation, MaxPool2D, Concatenate\n",
    "\n",
    "from tensorflow.keras.applications import VGG16\n",
    "from tensorflow.keras.applications import ResNet50"
   ]
  },
  {
   "cell_type": "code",
   "execution_count": 3,
   "id": "341d957d",
   "metadata": {},
   "outputs": [
    {
     "data": {
      "text/html": [
       "<div>\n",
       "<style scoped>\n",
       "    .dataframe tbody tr th:only-of-type {\n",
       "        vertical-align: middle;\n",
       "    }\n",
       "\n",
       "    .dataframe tbody tr th {\n",
       "        vertical-align: top;\n",
       "    }\n",
       "\n",
       "    .dataframe thead th {\n",
       "        text-align: right;\n",
       "    }\n",
       "</style>\n",
       "<table border=\"1\" class=\"dataframe\">\n",
       "  <thead>\n",
       "    <tr style=\"text-align: right;\">\n",
       "      <th></th>\n",
       "      <th>Unnamed: 0</th>\n",
       "      <th>Phase</th>\n",
       "      <th>City</th>\n",
       "      <th>File_x</th>\n",
       "      <th>Path_x</th>\n",
       "      <th>File_id1</th>\n",
       "      <th>File_id2</th>\n",
       "      <th>File_type_x</th>\n",
       "      <th>File_unique_index</th>\n",
       "      <th>File_y</th>\n",
       "      <th>Path_y</th>\n",
       "      <th>File_type_y</th>\n",
       "    </tr>\n",
       "  </thead>\n",
       "  <tbody>\n",
       "    <tr>\n",
       "      <th>0</th>\n",
       "      <td>0</td>\n",
       "      <td>test</td>\n",
       "      <td>berlin</td>\n",
       "      <td>berlin_000000_000019_leftImg8bit.png</td>\n",
       "      <td>c:\\Users\\blanc\\OpenClassrooms\\IA_Project8_Open...</td>\n",
       "      <td>0</td>\n",
       "      <td>19</td>\n",
       "      <td>leftImg8bit.png</td>\n",
       "      <td>berlin_000000_000019</td>\n",
       "      <td>berlin_000000_000019_gtFine_labelIds.png</td>\n",
       "      <td>c:\\Users\\blanc\\OpenClassrooms\\IA_Project8_Open...</td>\n",
       "      <td>gtFine</td>\n",
       "    </tr>\n",
       "    <tr>\n",
       "      <th>1</th>\n",
       "      <td>1</td>\n",
       "      <td>test</td>\n",
       "      <td>berlin</td>\n",
       "      <td>berlin_000001_000019_leftImg8bit.png</td>\n",
       "      <td>c:\\Users\\blanc\\OpenClassrooms\\IA_Project8_Open...</td>\n",
       "      <td>1</td>\n",
       "      <td>19</td>\n",
       "      <td>leftImg8bit.png</td>\n",
       "      <td>berlin_000001_000019</td>\n",
       "      <td>berlin_000001_000019_gtFine_labelIds.png</td>\n",
       "      <td>c:\\Users\\blanc\\OpenClassrooms\\IA_Project8_Open...</td>\n",
       "      <td>gtFine</td>\n",
       "    </tr>\n",
       "    <tr>\n",
       "      <th>2</th>\n",
       "      <td>2</td>\n",
       "      <td>test</td>\n",
       "      <td>berlin</td>\n",
       "      <td>berlin_000002_000019_leftImg8bit.png</td>\n",
       "      <td>c:\\Users\\blanc\\OpenClassrooms\\IA_Project8_Open...</td>\n",
       "      <td>2</td>\n",
       "      <td>19</td>\n",
       "      <td>leftImg8bit.png</td>\n",
       "      <td>berlin_000002_000019</td>\n",
       "      <td>berlin_000002_000019_gtFine_labelIds.png</td>\n",
       "      <td>c:\\Users\\blanc\\OpenClassrooms\\IA_Project8_Open...</td>\n",
       "      <td>gtFine</td>\n",
       "    </tr>\n",
       "    <tr>\n",
       "      <th>3</th>\n",
       "      <td>3</td>\n",
       "      <td>test</td>\n",
       "      <td>berlin</td>\n",
       "      <td>berlin_000003_000019_leftImg8bit.png</td>\n",
       "      <td>c:\\Users\\blanc\\OpenClassrooms\\IA_Project8_Open...</td>\n",
       "      <td>3</td>\n",
       "      <td>19</td>\n",
       "      <td>leftImg8bit.png</td>\n",
       "      <td>berlin_000003_000019</td>\n",
       "      <td>berlin_000003_000019_gtFine_labelIds.png</td>\n",
       "      <td>c:\\Users\\blanc\\OpenClassrooms\\IA_Project8_Open...</td>\n",
       "      <td>gtFine</td>\n",
       "    </tr>\n",
       "    <tr>\n",
       "      <th>4</th>\n",
       "      <td>4</td>\n",
       "      <td>test</td>\n",
       "      <td>berlin</td>\n",
       "      <td>berlin_000004_000019_leftImg8bit.png</td>\n",
       "      <td>c:\\Users\\blanc\\OpenClassrooms\\IA_Project8_Open...</td>\n",
       "      <td>4</td>\n",
       "      <td>19</td>\n",
       "      <td>leftImg8bit.png</td>\n",
       "      <td>berlin_000004_000019</td>\n",
       "      <td>berlin_000004_000019_gtFine_labelIds.png</td>\n",
       "      <td>c:\\Users\\blanc\\OpenClassrooms\\IA_Project8_Open...</td>\n",
       "      <td>gtFine</td>\n",
       "    </tr>\n",
       "  </tbody>\n",
       "</table>\n",
       "</div>"
      ],
      "text/plain": [
       "   Unnamed: 0 Phase    City                                File_x  \\\n",
       "0           0  test  berlin  berlin_000000_000019_leftImg8bit.png   \n",
       "1           1  test  berlin  berlin_000001_000019_leftImg8bit.png   \n",
       "2           2  test  berlin  berlin_000002_000019_leftImg8bit.png   \n",
       "3           3  test  berlin  berlin_000003_000019_leftImg8bit.png   \n",
       "4           4  test  berlin  berlin_000004_000019_leftImg8bit.png   \n",
       "\n",
       "                                              Path_x  File_id1  File_id2  \\\n",
       "0  c:\\Users\\blanc\\OpenClassrooms\\IA_Project8_Open...         0        19   \n",
       "1  c:\\Users\\blanc\\OpenClassrooms\\IA_Project8_Open...         1        19   \n",
       "2  c:\\Users\\blanc\\OpenClassrooms\\IA_Project8_Open...         2        19   \n",
       "3  c:\\Users\\blanc\\OpenClassrooms\\IA_Project8_Open...         3        19   \n",
       "4  c:\\Users\\blanc\\OpenClassrooms\\IA_Project8_Open...         4        19   \n",
       "\n",
       "       File_type_x     File_unique_index  \\\n",
       "0  leftImg8bit.png  berlin_000000_000019   \n",
       "1  leftImg8bit.png  berlin_000001_000019   \n",
       "2  leftImg8bit.png  berlin_000002_000019   \n",
       "3  leftImg8bit.png  berlin_000003_000019   \n",
       "4  leftImg8bit.png  berlin_000004_000019   \n",
       "\n",
       "                                     File_y  \\\n",
       "0  berlin_000000_000019_gtFine_labelIds.png   \n",
       "1  berlin_000001_000019_gtFine_labelIds.png   \n",
       "2  berlin_000002_000019_gtFine_labelIds.png   \n",
       "3  berlin_000003_000019_gtFine_labelIds.png   \n",
       "4  berlin_000004_000019_gtFine_labelIds.png   \n",
       "\n",
       "                                              Path_y File_type_y  \n",
       "0  c:\\Users\\blanc\\OpenClassrooms\\IA_Project8_Open...      gtFine  \n",
       "1  c:\\Users\\blanc\\OpenClassrooms\\IA_Project8_Open...      gtFine  \n",
       "2  c:\\Users\\blanc\\OpenClassrooms\\IA_Project8_Open...      gtFine  \n",
       "3  c:\\Users\\blanc\\OpenClassrooms\\IA_Project8_Open...      gtFine  \n",
       "4  c:\\Users\\blanc\\OpenClassrooms\\IA_Project8_Open...      gtFine  "
      ]
     },
     "execution_count": 3,
     "metadata": {},
     "output_type": "execute_result"
    }
   ],
   "source": [
    "clean_df = pd.read_csv('./clean_df.csv')\n",
    "clean_df.head()"
   ]
  },
  {
   "cell_type": "code",
   "execution_count": 4,
   "id": "ecbb81f4",
   "metadata": {},
   "outputs": [
    {
     "data": {
      "text/plain": [
       "500"
      ]
     },
     "execution_count": 4,
     "metadata": {},
     "output_type": "execute_result"
    }
   ],
   "source": [
    "len(clean_df.loc[clean_df['Phase'] == 'val'])"
   ]
  },
  {
   "cell_type": "code",
   "execution_count": 5,
   "id": "93a64ca8",
   "metadata": {},
   "outputs": [],
   "source": [
    "# # DATALOADER - Notre classe hérite de la classe Keras.utils.Sequence\n",
    "# # Elle permet de créer un générateur de données\n",
    "# # Cette classe parente vous assure dans le cas ou vous souhaitez utiliser du calcul parallèle avec vos threads, de garantir de parcourir une seule et unique fois vos données au cours d’une époch\n",
    "# class GeneratorCitySpace(keras.utils.Sequence):\n",
    "#     \"\"\"Load data from dataset to build bacthes\n",
    "#     Args:\n",
    "#         dataset : dataframe listing data and paths\n",
    "#         n_sample : to work with a reduced dataset\n",
    "#         batch_size: Integet number of images in batch.\n",
    "#         resize_width & resize_height: New dimensions after resizing\n",
    "#         phase: allow to set if dataloader shall filter on train, val or test images/masks\n",
    "#         augmentation: Variable defining augmentation of image and mask\n",
    "#     \"\"\"\n",
    "#     # We provide one dataset, containing labelIds Masks and Images\n",
    "#     def __init__(self, dataset, n_sample=None, batch_size=1, resize_width=256, resize_height=128, phase='train', augmentation=None):\n",
    "#         self.n_sample = n_sample\n",
    "#         self.phase = phase\n",
    "#         if (self.n_sample is None):\n",
    "#             self.dataset = dataset.loc[dataset['Phase'] == self.phase, :]\n",
    "#         else:\n",
    "#             self.dataset = dataset.loc[dataset['Phase'] == self.phase, :].sample(self.n_sample) #ou dataset si on veut prendre tour le jeu de donnée\n",
    "#         self.batch_size = batch_size\n",
    "#         self.resize_width = resize_width\n",
    "#         self.resize_height = resize_height\n",
    "#         self.augmentation = augmentation\n",
    "#         self.on_epoch_end()\n",
    "\n",
    "#     CATS = {\n",
    "#         'void': [0, 1, 2, 3, 4, 5, 6],\n",
    "#         'flat': [7, 8, 9, 10],\n",
    "#         'construction': [11, 12, 13, 14, 15, 16],\n",
    "#         'object': [17, 18, 19, 20],\n",
    "#         'nature': [21, 22],\n",
    "#         'sky': [23],\n",
    "#         'human': [24, 25],\n",
    "#         'vehicle': [26, 27, 28, 29, 30, 31, 32, 33,-1]\n",
    "#     }\n",
    "    \n",
    "#     def _convert_mask(self,img):\n",
    "#         img = np.squeeze(img)\n",
    "#         mask = np.zeros((img.shape[0], img.shape[1], 8),dtype=np.uint8)\n",
    "#         for i in range(-1, 34):\n",
    "#             if i in self.CATS['void']:\n",
    "#                 mask[:,:,0] = np.logical_or(mask[:,:,0],(img==i))\n",
    "#             elif i in self.CATS['flat']:\n",
    "#                 mask[:,:,1] = np.logical_or(mask[:,:,1],(img==i))\n",
    "#             elif i in self.CATS['construction']:\n",
    "#                 mask[:,:,2] = np.logical_or(mask[:,:,2],(img==i))\n",
    "#             elif i in self.CATS['object']:\n",
    "#                 mask[:,:,3] = np.logical_or(mask[:,:,3],(img==i))\n",
    "#             elif i in self.CATS['nature']:\n",
    "#                 mask[:,:,4] = np.logical_or(mask[:,:,4],(img==i))\n",
    "#             elif i in self.CATS['sky']:\n",
    "#                 mask[:,:,5] = np.logical_or(mask[:,:,5],(img==i))\n",
    "#             elif i in self.CATS['human']:\n",
    "#                 mask[:,:,6] = np.logical_or(mask[:,:,6],(img==i))\n",
    "#             elif i in self.CATS['vehicle']:\n",
    "#                 mask[:,:,7] = np.logical_or(mask[:,:,7],(img==i))\n",
    "#         return np.array(mask,dtype='uint8') #retrun the mask OneHotEncoded\n",
    "#         #return np.array(np.argmax(mask,axis=2), dtype='uint8') #return the mask with the labelId\n",
    "\n",
    "#     def __getitem__(self, i):\n",
    "#         # collect batch images and masks\n",
    "#         start = i * self.batch_size\n",
    "#         stop = (i + 1) * self.batch_size\n",
    "#         images = []\n",
    "#         masks = []\n",
    "#         for j in range(start, stop):\n",
    "#             # OpenImages and masks, and apply resize + mask color conversion + Normalization\n",
    "#             image = (cv2.resize(cv2.imread(list(self.dataset['Path_x'])[j]), (self.resize_width, self.resize_height), interpolation = cv2.INTER_AREA)) #image/255 ou normalizedImg\n",
    "#             mask = self._convert_mask(cv2.resize(cv2.imread(list(self.dataset['Path_y'])[j],0), (self.resize_width, self.resize_height), interpolation = cv2.INTER_AREA)) #mask/255\n",
    "#             #mask = cv2.resize(cv2.imread(list(self.dataset['Path_y'])[j]), (self.resize_width, self.resize_height), interpolation = cv2.INTER_AREA) #mask/255\n",
    "            \n",
    "#             if ((self.augmentation is not None) & (self.phase == 'train')):\n",
    "#                 # apply augmentations\n",
    "#                 sample = self.augmentation(image=image, mask=mask)\n",
    "#                 augmented_image, augmented_mask = sample['image'], sample['mask'] \n",
    "#                 #augmented_image = augmented_image/255\n",
    "#                 #augmented_mask = augmented_mask/255\n",
    "#                 # append augmented image and mask to batch\n",
    "#                 images.append(augmented_image)\n",
    "#                 masks.append(augmented_mask)\n",
    "#             image = image/255\n",
    "#             #mask = mask/255\n",
    "\n",
    "\n",
    "#             # append image and mask to batch\n",
    "#             images.append(image)\n",
    "#             masks.append(mask)   \n",
    "\n",
    "#         # transpose list of lists = Data Generator outputs\n",
    "#         image_batch = np.stack(images, axis=0).astype('float32')\n",
    "#         #Add 1 dimension to return image_batch and mask_batch in 4 dimensions (batch number, height, width, channels), avec channel = 1 pour les masques et =3 pour les images\n",
    "#         #mask_batch = np.expand_dims(np.stack(masks, axis=0), axis = 3)\n",
    "#         mask_batch = np.stack(masks, axis=0).astype('float32') #float32 ?\n",
    "\n",
    "#         # Data Generator outputs\n",
    "#         return image_batch, mask_batch\n",
    "    \n",
    "#     def __len__(self):\n",
    "#         \"\"\"Denotes the number of batches per epoch\"\"\"\n",
    "#         return len(self.dataset) // self.batch_size\n",
    "    \n",
    "#     def on_epoch_end(self):\n",
    "#         \"\"\"Callback function to shuffle dataset each epoch\"\"\"\n",
    "#         np.random.shuffle(self.dataset.values)"
   ]
  },
  {
   "cell_type": "code",
   "execution_count": 5,
   "id": "59a26941",
   "metadata": {},
   "outputs": [],
   "source": [
    "# Data Loader preparation\n",
    "n_sample = None #500 #Pour les tests, nous limitons le jeu de données à 20 images\n",
    "batch_size = 5 #Pour les tests, nous limitons le batch_size à 2 images\n",
    "resize_width = 256\n",
    "resize_height = 128\n",
    "# Declare an augmentation pipeline\n",
    "# augmentation = None \n",
    "augmentation = A.Compose(\n",
    "                    [#A.RandomCrop(width=512, height=256), \n",
    "                    A.Rotate(25),\n",
    "                    A.OneOf([A.RGBShift(), A.HueSaturationValue()]),\n",
    "                    #A.ShiftScaleRotate(scale_limit=0.5, rotate_limit=0, shift_limit=0.1, p=1, border_mode=0), \n",
    "                    #A.IAAPerspective(p=0.5), \n",
    "                    #A.HorizontalFlip(p=0.5),\n",
    "                    A.OneOf([A.CLAHE(), A.RandomBrightnessContrast(), A.RandomGamma()]), \n",
    "                    ])\n",
    "\n",
    "\n",
    "# Generators\n",
    "train_generators = GeneratorCitySpace(clean_df, n_sample, batch_size, resize_width, resize_height, 'train', augmentation)\n",
    "val_generators = GeneratorCitySpace(clean_df, n_sample, batch_size, resize_width, resize_height, 'val', augmentation)\n",
    "test_generators = GeneratorCitySpace(clean_df, n_sample, batch_size, resize_width, resize_height, 'test', augmentation)\n",
    "\n",
    "# #Autres Generator from Keras\n",
    "# #Tuto here: https://vijayabhaskar96.medium.com/tutorial-on-keras-imagedatagenerator-with-flow-from-dataframe-8bd5776e45c1\n",
    "# #Doc here: https://www.tensorflow.org/api_docs/python/tf/keras/preprocessing/image/ImageDataGenerator#flow_from_dataframe\n",
    "# from keras_preprocessing.image import ImageDataGenerator"
   ]
  },
  {
   "cell_type": "code",
   "execution_count": 6,
   "id": "d1364282",
   "metadata": {},
   "outputs": [
    {
     "name": "stdout",
     "output_type": "stream",
     "text": [
      "(10, 128, 256, 8)\n",
      "(10, 128, 256, 3)\n"
     ]
    }
   ],
   "source": [
    "print(train_generators[0][1].shape)\n",
    "#np.unique(train_generators[0][1])\n",
    "print(train_generators[0][0].shape)"
   ]
  },
  {
   "cell_type": "code",
   "execution_count": 7,
   "id": "0f00e650",
   "metadata": {},
   "outputs": [
    {
     "data": {
      "text/plain": [
       "595"
      ]
     },
     "execution_count": 7,
     "metadata": {},
     "output_type": "execute_result"
    }
   ],
   "source": [
    "len(train_generators)"
   ]
  },
  {
   "cell_type": "markdown",
   "id": "46a952a8",
   "metadata": {},
   "source": [
    "# Chargement du modèle UNET"
   ]
  },
  {
   "cell_type": "code",
   "execution_count": 8,
   "id": "1c80344f",
   "metadata": {},
   "outputs": [],
   "source": [
    "\n",
    "n_filters = 32 #Variable used in Neural Network Convolutions steps\n",
    "nb_class = 8\n",
    "#Load model architecture\n",
    "model_test = build_unet_block((resize_height, resize_width, 3), nb_class, n_filters)\n",
    "\n",
    "# Inspiré de https://github.com/hlamba28/UNET-TGS/blob/master/\n",
    "#model_test = get_unet(Input((resize_width, resize_height, 3), name='img'), n_filters=n_filters, dropout=0.05, batchnorm=True)\n",
    "\n",
    "#Load model architecture\n",
    "#model_test = build_unet()"
   ]
  },
  {
   "cell_type": "markdown",
   "id": "85fee867",
   "metadata": {},
   "source": [
    "## Evaluation de la performance\n",
    "\n",
    "Quelques références:\n",
    " - [Article on Semantic Segmentation Metrics](https://ilmonteux.github.io/2019/05/10/segmentation-metrics.html)\n",
    " - [DICE vs IOU](https://stats.stackexchange.com/questions/273537/f1-dice-score-vs-iou)\n",
    " - [towardsdatascience article - restricted](https://towardsdatascience.com/metrics-to-evaluate-your-semantic-segmentation-model-6bcb99639aa2)\n",
    " - [Kaggle sur les métriques - Inclu MultiClass](https://www.kaggle.com/code/yassinealouini/all-the-segmentation-metrics?scriptVersionId=92089547&cellId=58)\n",
    "\n",
    "Une documentation sur les fonctions de pertes pour la segmentation d'images est [disponible ici](https://lars76.github.io/2018/09/27/loss-functions-for-segmentation.html)\n",
    "\n",
    "\n",
    "Durant les phases de développement, nous avons conduit une approche itérative nous permettant de choisir les meilleures métriques associés au besoin métier.\n",
    "De ce fait, voici ci-desssour un tableau récapitulatif des fonctions de pertes + métriques que nous avons étudié.\n",
    "\n",
    "Suite à l'analyse de ces critères, nous vous présenterons ci-dessous les modèles ayant été entrainé avec le couple:\n",
    " - Fonction de perte = Jaccard\n",
    " - Métrique = IOU\n",
    "\n",
    "| Try_step | Loss | Metric | Intersection vs. Union | Confusion Matrix | Pros | Cons|\n",
    "|----------|------|--------|----------------|------|-----|------|\n",
    "|1| Categorical Cross-entropy | Pixel Accuracy | $ - $ | $ \\frac{TP + TN}{TP + FP + TN + FN} $ | Easy to interpret | Bad with imbalanced target classes. |\n",
    "|2| [Dice](https://en.wikipedia.org/wiki/S%C3%B8rensen%E2%80%93Dice_coefficient) | F1 | $ \\frac{2 \\lvert\\lvert A \\cap B \\rvert\\rvert}{\\lvert\\lvert A \\rvert\\rvert + \\lvert\\lvert B \\rvert\\rvert} $ | $ \\frac{2 TP}{2 TP + FP + FN} $ | Good with imbalanced target classes. | Not easy to interpret. |\n",
    "|3| [Jaccard](https://en.wikipedia.org/wiki/Jaccard_index) | Intersection over Union ([IoU]((https://www.tensorflow.org/api_docs/python/tf/keras/metrics/MeanIoU))) | $ \\frac{\\lvert\\lvert A \\cap B \\rvert\\rvert}{\\lvert\\lvert A \\cup B \\rvert\\rvert} $ | $ \\frac{TP}{TP + FP + FN} $ | Easy to interpret. Good with imbalanced target classes. |  |\n",
    "\n"
   ]
  },
  {
   "cell_type": "code",
   "execution_count": null,
   "id": "340bfade",
   "metadata": {},
   "outputs": [],
   "source": [
    "# # Dice Coefficient\n",
    "# def dice(pred, label):\n",
    "#     pred = (pred > 0).float()\n",
    "#     return 2. * (pred*label).sum() / (pred+label).sum()"
   ]
  },
  {
   "cell_type": "code",
   "execution_count": null,
   "id": "c61836f4",
   "metadata": {},
   "outputs": [],
   "source": [
    "# def dice_coeff(self, y_true, y_pred):\n",
    "#     y_true_f = tf.keras.backend.flatten(y_true)\n",
    "#     y_pred_f = tf.keras.backend.flatten(y_pred)\n",
    "#     intersection = tf.keras.backend.sum(y_true_f * y_pred_f)\n",
    "#     return (2. * intersection + 1.0) / (tf.keras.backend.sum(y_true_f) + tf.keras.backend.sum(y_pred_f) + 1.0)"
   ]
  },
  {
   "cell_type": "code",
   "execution_count": 19,
   "id": "736c6fe9",
   "metadata": {},
   "outputs": [],
   "source": [
    "# def jaccard_distance_loss(y_true, y_pred, smooth=100):\n",
    "#     intersection= (y_true * y_pred).abs().sum(dim=-1)\n",
    "#     sum_ = torch.sum(y_true.abs() + y_pred.abs(), dim=-1)\n",
    "#     jac = (intersection + smooth) / (sum_ - intersection + smooth)\n",
    "#     return (1 - jac) * smooth\n",
    "\n",
    "# def jaccard_distance_loss(y_true, y_pred, smooth=100):\n",
    "#     \"\"\" Calculates mean of Jaccard distance as a loss function \"\"\"\n",
    "#     intersection = tf.reduce_sum(y_true * y_pred, axis=(1,2))\n",
    "#     sum_ = tf.reduce_sum(y_true + y_pred, axis=(1,2))\n",
    "#     jac = (intersection + smooth) / (sum_ - intersection + smooth)\n",
    "#     jd =  (1 - jac) * smooth\n",
    "#     return tf.reduce_mean(jd)"
   ]
  },
  {
   "cell_type": "code",
   "execution_count": 18,
   "id": "f0bb8a6a",
   "metadata": {},
   "outputs": [],
   "source": [
    "# def dice_coeff(self, y_true, y_pred):\n",
    "#     y_true_f = tf.keras.backend.flatten(y_true)\n",
    "#     y_pred_f = tf.keras.backend.flatten(y_pred)\n",
    "#     intersection = tf.keras.backend.sum(y_true_f * y_pred_f)\n",
    "#     return (2. * intersection + 1.0) / (tf.keras.backend.sum(y_true_f) + tf.keras.backend.sum(y_pred_f) + 1.0)\n",
    "\n",
    "# def dice_loss(y_true, y_pred):\n",
    "#     return 1 - dice_coeff(y_true, y_pred)"
   ]
  },
  {
   "cell_type": "code",
   "execution_count": 9,
   "id": "d2c5a420",
   "metadata": {},
   "outputs": [],
   "source": [
    "# Ffrom Kaggle https://www.kaggle.com/code/michaelcripman/road-segmentation-unet-keras-implementation\n",
    "# Or From GitHub : https://github.com/srihari-humbarwadi/cityscapes-segmentation-with-Unet/blob/master/batch_training.py\n",
    "def dice_coeff(y_true, y_pred):\n",
    "    smooth = 1.\n",
    "    y_true_f = K.cast(K.flatten(y_true), K.floatx()) #K.flatten(y_true) #\n",
    "    y_pred_f = K.cast(K.flatten(y_pred), K.floatx()) #K.flatten(y_pred) #\n",
    "    intersection = K.sum(y_true_f * y_pred_f)\n",
    "    score = (2. * intersection + smooth) / (K.sum(y_true_f) + K.sum(y_pred_f) + smooth)\n",
    "    return score\n",
    "\n",
    "def dice_loss(y_true, y_pred):\n",
    "    loss = 1 - dice_coeff(y_true, y_pred)\n",
    "    return loss\n",
    "\n",
    "def total_loss(y_true, y_pred):\n",
    "    loss = binary_crossentropy(y_true, y_pred) + (3*dice_loss(y_true, y_pred))\n",
    "    return loss\n",
    "    \n",
    "#metrics=[dice_coeff(y_true, y_pred), tf.keras.metrics.MeanIoU(30, name = 'iou')]\n",
    "#metrics=[dice_coeff, 'accuracy']\n"
   ]
  },
  {
   "cell_type": "code",
   "execution_count": 16,
   "id": "77d60a42",
   "metadata": {},
   "outputs": [],
   "source": [
    "# #explained here: https://github.com/keras-team/keras/issues/9395\n",
    "# def dice_coef_9cat(y_true, y_pred, smooth=1e-7):\n",
    "#     '''\n",
    "#     Dice coefficient for 10 categories. Ignores background pixel label 0\n",
    "#     Pass to model as metric during compile statement\n",
    "#     '''\n",
    "#     y_true_f = K.flatten(K.one_hot(K.cast(y_true, 'int32'), num_classes=8)[...,1:])\n",
    "#     y_pred_f = K.flatten(y_pred[...,1:])\n",
    "#     intersect = K.sum(y_true_f * y_pred_f, axis=-1)\n",
    "#     denom = K.sum(y_true_f + y_pred_f, axis=-1)\n",
    "#     return K.mean((2. * intersect / (denom + smooth)))\n",
    "\n",
    "# # def dice_coef_binary(y_true, y_pred, smooth=1e-7):\n",
    "# #     '''\n",
    "# #     Dice coefficient for 2 categories. Ignores background pixel label 0\n",
    "# #     Pass to model as metric during compile statement\n",
    "# #     '''\n",
    "# #     y_true_f = K.flatten(K.one_hot(K.cast(y_true, 'int32'), num_classes=2)[...,1:])\n",
    "# #     y_pred_f = K.flatten(y_pred[...,1:])\n",
    "# #     intersect = K.sum(y_true_f * y_pred_f, axis=-1)\n",
    "# #     denom = K.sum(y_true_f + y_pred_f, axis=-1)\n",
    "# #     return K.mean((2. * intersect / (denom + smooth)))\n",
    "\n",
    "# def dice_coef_9cat_loss(y_true, y_pred):\n",
    "#     '''\n",
    "#     Dice loss to minimize. Pass to model as loss during compile statement\n",
    "#     '''\n",
    "#     return 1 - dice_coef_9cat(y_true, y_pred)\n",
    "    \n",
    "# # def dice_coef_binary_loss(y_true, y_pred):\n",
    "# #     '''\n",
    "# #     Dice loss to minimize. Pass to model as loss during compile statement\n",
    "# #     '''\n",
    "# #     return 1 - dice_coef_binary(y_true, y_pred)"
   ]
  },
  {
   "cell_type": "markdown",
   "id": "6d9c98de",
   "metadata": {},
   "source": [
    "### Fit the Model\n",
    "\n"
   ]
  },
  {
   "cell_type": "code",
   "execution_count": 10,
   "id": "d7ac7c3e",
   "metadata": {},
   "outputs": [
    {
     "name": "stdout",
     "output_type": "stream",
     "text": [
      "Model: \"U-Net\"\n",
      "__________________________________________________________________________________________________\n",
      "Layer (type)                    Output Shape         Param #     Connected to                     \n",
      "==================================================================================================\n",
      "input_1 (InputLayer)            [(None, 128, 256, 3) 0                                            \n",
      "__________________________________________________________________________________________________\n",
      "conv2d (Conv2D)                 (None, 128, 256, 32) 896         input_1[0][0]                    \n",
      "__________________________________________________________________________________________________\n",
      "conv2d_1 (Conv2D)               (None, 128, 256, 32) 9248        conv2d[0][0]                     \n",
      "__________________________________________________________________________________________________\n",
      "max_pooling2d (MaxPooling2D)    (None, 64, 128, 32)  0           conv2d_1[0][0]                   \n",
      "__________________________________________________________________________________________________\n",
      "conv2d_2 (Conv2D)               (None, 64, 128, 64)  18496       max_pooling2d[0][0]              \n",
      "__________________________________________________________________________________________________\n",
      "conv2d_3 (Conv2D)               (None, 64, 128, 64)  36928       conv2d_2[0][0]                   \n",
      "__________________________________________________________________________________________________\n",
      "max_pooling2d_1 (MaxPooling2D)  (None, 32, 64, 64)   0           conv2d_3[0][0]                   \n",
      "__________________________________________________________________________________________________\n",
      "conv2d_4 (Conv2D)               (None, 32, 64, 128)  73856       max_pooling2d_1[0][0]            \n",
      "__________________________________________________________________________________________________\n",
      "conv2d_5 (Conv2D)               (None, 32, 64, 128)  147584      conv2d_4[0][0]                   \n",
      "__________________________________________________________________________________________________\n",
      "max_pooling2d_2 (MaxPooling2D)  (None, 16, 32, 128)  0           conv2d_5[0][0]                   \n",
      "__________________________________________________________________________________________________\n",
      "conv2d_6 (Conv2D)               (None, 16, 32, 256)  295168      max_pooling2d_2[0][0]            \n",
      "__________________________________________________________________________________________________\n",
      "conv2d_7 (Conv2D)               (None, 16, 32, 256)  590080      conv2d_6[0][0]                   \n",
      "__________________________________________________________________________________________________\n",
      "dropout (Dropout)               (None, 16, 32, 256)  0           conv2d_7[0][0]                   \n",
      "__________________________________________________________________________________________________\n",
      "max_pooling2d_3 (MaxPooling2D)  (None, 8, 16, 256)   0           dropout[0][0]                    \n",
      "__________________________________________________________________________________________________\n",
      "conv2d_8 (Conv2D)               (None, 8, 16, 512)   1180160     max_pooling2d_3[0][0]            \n",
      "__________________________________________________________________________________________________\n",
      "conv2d_9 (Conv2D)               (None, 8, 16, 512)   2359808     conv2d_8[0][0]                   \n",
      "__________________________________________________________________________________________________\n",
      "dropout_1 (Dropout)             (None, 8, 16, 512)   0           conv2d_9[0][0]                   \n",
      "__________________________________________________________________________________________________\n",
      "up_sampling2d (UpSampling2D)    (None, 16, 32, 512)  0           dropout_1[0][0]                  \n",
      "__________________________________________________________________________________________________\n",
      "conv2d_10 (Conv2D)              (None, 16, 32, 256)  524544      up_sampling2d[0][0]              \n",
      "__________________________________________________________________________________________________\n",
      "concatenate (Concatenate)       (None, 16, 32, 512)  0           dropout[0][0]                    \n",
      "                                                                 conv2d_10[0][0]                  \n",
      "__________________________________________________________________________________________________\n",
      "conv2d_11 (Conv2D)              (None, 16, 32, 256)  1179904     concatenate[0][0]                \n",
      "__________________________________________________________________________________________________\n",
      "conv2d_12 (Conv2D)              (None, 16, 32, 256)  590080      conv2d_11[0][0]                  \n",
      "__________________________________________________________________________________________________\n",
      "up_sampling2d_1 (UpSampling2D)  (None, 32, 64, 256)  0           conv2d_12[0][0]                  \n",
      "__________________________________________________________________________________________________\n",
      "conv2d_13 (Conv2D)              (None, 32, 64, 128)  131200      up_sampling2d_1[0][0]            \n",
      "__________________________________________________________________________________________________\n",
      "concatenate_1 (Concatenate)     (None, 32, 64, 256)  0           conv2d_5[0][0]                   \n",
      "                                                                 conv2d_13[0][0]                  \n",
      "__________________________________________________________________________________________________\n",
      "conv2d_14 (Conv2D)              (None, 32, 64, 128)  295040      concatenate_1[0][0]              \n",
      "__________________________________________________________________________________________________\n",
      "conv2d_15 (Conv2D)              (None, 32, 64, 128)  147584      conv2d_14[0][0]                  \n",
      "__________________________________________________________________________________________________\n",
      "up_sampling2d_2 (UpSampling2D)  (None, 64, 128, 128) 0           conv2d_15[0][0]                  \n",
      "__________________________________________________________________________________________________\n",
      "conv2d_16 (Conv2D)              (None, 64, 128, 64)  32832       up_sampling2d_2[0][0]            \n",
      "__________________________________________________________________________________________________\n",
      "concatenate_2 (Concatenate)     (None, 64, 128, 128) 0           conv2d_3[0][0]                   \n",
      "                                                                 conv2d_16[0][0]                  \n",
      "__________________________________________________________________________________________________\n",
      "conv2d_17 (Conv2D)              (None, 64, 128, 64)  73792       concatenate_2[0][0]              \n",
      "__________________________________________________________________________________________________\n",
      "conv2d_18 (Conv2D)              (None, 64, 128, 64)  36928       conv2d_17[0][0]                  \n",
      "__________________________________________________________________________________________________\n",
      "up_sampling2d_3 (UpSampling2D)  (None, 128, 256, 64) 0           conv2d_18[0][0]                  \n",
      "__________________________________________________________________________________________________\n",
      "conv2d_19 (Conv2D)              (None, 128, 256, 32) 8224        up_sampling2d_3[0][0]            \n",
      "__________________________________________________________________________________________________\n",
      "concatenate_3 (Concatenate)     (None, 128, 256, 64) 0           conv2d_1[0][0]                   \n",
      "                                                                 conv2d_19[0][0]                  \n",
      "__________________________________________________________________________________________________\n",
      "conv2d_20 (Conv2D)              (None, 128, 256, 32) 18464       concatenate_3[0][0]              \n",
      "__________________________________________________________________________________________________\n",
      "conv2d_21 (Conv2D)              (None, 128, 256, 32) 9248        conv2d_20[0][0]                  \n",
      "__________________________________________________________________________________________________\n",
      "conv2d_22 (Conv2D)              (None, 128, 256, 8)  264         conv2d_21[0][0]                  \n",
      "==================================================================================================\n",
      "Total params: 7,760,328\n",
      "Trainable params: 7,760,328\n",
      "Non-trainable params: 0\n",
      "__________________________________________________________________________________________________\n"
     ]
    }
   ],
   "source": [
    "# Fit model\n",
    "learning_rate = 1e-3\n",
    "# define optimizer\n",
    "optim = keras.optimizers.Adam(learning_rate)\n",
    "\n",
    "# Select Metric\n",
    "#metrics=['accuracy']\n",
    "#metric = [sm.metrics.IOUScore()]\n",
    "#metric = [sm.metrics.FScore()]\n",
    "#metric = [dice_coeff]\n",
    "metric = [sm.metrics.FScore(), sm.metrics.IOUScore()]\n",
    "\n",
    "# Select Loss function\n",
    "#loss_function = 'categorical_crossentropy'\n",
    "#loss_function = sm.losses.cce_dice_loss # = categorical_crossentropy + dice_loss\n",
    "#loss_function = sm.losses.categorical_focal_dice_loss #or \n",
    "#loss_function = sm.losses.binary_focal_dice_loss\n",
    "#loss_function = sm.losses.JaccardLoss()\n",
    "#loss_function = sm.losses.DiceLoss\n",
    "#loss_function = sm.losses.BinaryFocalLoss() \n",
    "\n",
    "loss_function = total_loss\n",
    "\n",
    "# Segmentation models losses can be combined together by '+' and scaled by integer or float factor\n",
    "# set class weights for dice_loss (car: 1.; pedestrian: 2.; background: 0.5;)\n",
    "#dice_loss = sm.losses.DiceLoss(class_weights=np.array([1, 2, 0.5, 1, 1, 1, 1, 1])) \n",
    "#focal_loss = sm.losses.CategoricalFocalLoss()\n",
    "#loss_function = dice_loss + (1 * focal_loss)\n",
    "\n",
    "\n",
    "   # Segmentation models losses can be combined together by '+' and scaled by integer or float factor\n",
    "   # set class weights for dice_loss (car: 1.; pedestrian: 2.; background: 0.5;)\n",
    "# dice_loss = sm.losses.DiceLoss(class_weights=np.array([1, 2, 0.5])) \n",
    "# focal_loss = sm.losses.BinaryFocalLoss() if n_classes == 1 else sm.losses.CategoricalFocalLoss()\n",
    "# loss_function = dice_loss + (1 * focal_loss)\n",
    "#loss_function = jaccard_distance_loss\n",
    "\n",
    "#loss_function = dice_coef_9cat_loss()\n",
    "#loss_function = dice_loss()\n",
    "#loss_function = sm.losses.CategoricalCELoss()\n",
    "\n",
    "\n",
    "model_test.compile(optimizer=optim, loss=loss_function, metrics=metric) #if OneHotEncoded\n",
    "\n",
    "model_test.summary()"
   ]
  },
  {
   "cell_type": "code",
   "execution_count": 11,
   "id": "449ec3c5",
   "metadata": {},
   "outputs": [
    {
     "data": {
      "text/plain": [
       "10"
      ]
     },
     "execution_count": 11,
     "metadata": {},
     "output_type": "execute_result"
    }
   ],
   "source": [
    "#(len(clean_df.loc[clean_df['Phase'] == 'train']) // batch_size)\n",
    "n_sample // batch_size"
   ]
  },
  {
   "cell_type": "code",
   "execution_count": 11,
   "id": "04bab629",
   "metadata": {},
   "outputs": [
    {
     "name": "stdout",
     "output_type": "stream",
     "text": [
      "WARNING:tensorflow:From C:\\Users\\blanc\\AppData\\Local\\Temp\\ipykernel_11040\\2382127039.py:25: Model.fit_generator (from tensorflow.python.keras.engine.training) is deprecated and will be removed in a future version.\n",
      "Instructions for updating:\n",
      "Please use Model.fit, which supports generators.\n",
      "Epoch 1/50\n",
      "WARNING:tensorflow:multiprocessing can interact badly with TensorFlow, causing nondeterministic deadlocks. For high performance data pipelines tf.data is recommended.\n",
      "  2/595 [..............................] - ETA: 1:08 - loss: 4.3025 - f1-score: 0.0681 - iou_score: 0.0419WARNING:tensorflow:Callbacks method `on_train_batch_end` is slow compared to the batch time (batch time: 0.0797s vs `on_train_batch_end` time: 0.1517s). Check your callbacks.\n",
      "594/595 [============================>.] - ETA: 0s - loss: 1.8805 - f1-score: 0.2764 - iou_score: 0.1958WARNING:tensorflow:multiprocessing can interact badly with TensorFlow, causing nondeterministic deadlocks. For high performance data pipelines tf.data is recommended.\n",
      "595/595 [==============================] - ETA: 0s - loss: 1.8792 - f1-score: 0.2767 - iou_score: 0.1960WARNING:tensorflow:multiprocessing can interact badly with TensorFlow, causing nondeterministic deadlocks. For high performance data pipelines tf.data is recommended.\n",
      "\n",
      "Epoch 00001: val_iou_score improved from -inf to 0.32996, saving model to ./Models/checkpoints\\weights.h5\n",
      "595/595 [==============================] - 164s 275ms/step - loss: 1.8792 - f1-score: 0.2767 - iou_score: 0.1960 - val_loss: 1.1226 - val_f1-score: 0.4352 - val_iou_score: 0.3300\n",
      "Epoch 2/50\n",
      "WARNING:tensorflow:multiprocessing can interact badly with TensorFlow, causing nondeterministic deadlocks. For high performance data pipelines tf.data is recommended.\n"
     ]
    }
   ],
   "source": [
    "# callbacks that will be used during training\n",
    "#earlystopper = EarlyStopping(monitor='val_loss', mode = 'min', patience=5) #ou  (patience=10, verbose=1, mode = 'auto') \n",
    "earlystopper = EarlyStopping(patience=10, verbose=1, mode = 'auto')\n",
    "\n",
    "#checkpoint = ModelCheckpoint(filepath = './Models/checkpoints/weights.h5', verbose=True, save_best_only=True) #monitor='loss' ou monitor='val_iou_score' #mode='max' #filepath='model.{epoch:02d}-{val_loss:.2f}.h5'\n",
    "checkpoint = ModelCheckpoint(filepath = './Models/checkpoints/weights.h5', verbose=True, save_best_only=True, monitor='val_iou_score', mode='max')\n",
    "\n",
    "#reduce_lr = ReduceLROnPlateau(monitor='val_loss', factor=0.2, patience=5, min_lr=1e-4)\n",
    "reduce_lr = ReduceLROnPlateau(factor=0.1, cooldown= 10, patience=10, verbose=1, min_lr=1e-5)\n",
    "\n",
    "#tensorboard = TensorBoard(log_dir='./Models/logs', write_graph=True)\n",
    "\n",
    "n_epochs = 50\n",
    "\n",
    "#Train model\n",
    "results = model_test.fit_generator(\n",
    "                            train_generators, \n",
    "                            validation_data = val_generators, \n",
    "                            validation_steps = (len(clean_df.loc[clean_df['Phase'] == 'val']) // batch_size), #(n_sample // batch_size), #\n",
    "                            steps_per_epoch = (len(clean_df.loc[clean_df['Phase'] == 'train']) // batch_size), #(n_sample // batch_size), #\n",
    "                            epochs = n_epochs, \n",
    "                            workers=4,\n",
    "                            verbose = 1,\n",
    "                            use_multiprocessing=True,\n",
    "                            callbacks = [checkpoint, reduce_lr, earlystopper], #, reduce_lr\n",
    "                            #class_weight  : This can be useful to tell the model to \"pay more attention\" to samples from an under-represented class. \n",
    "                            #max_queue_size  :  Maximum size for the generator queue. Default to 10\n",
    "                            )\n",
    "\n",
    "# results = model_test.fit(\n",
    "#                         train_generators, \n",
    "#                         validation_data=val_generators, \n",
    "#                         epochs=1, \n",
    "#                         #callbacks=[checkpoint, early_stopping]\n",
    "#                         )"
   ]
  },
  {
   "cell_type": "code",
   "execution_count": 11,
   "id": "3eb8ec66",
   "metadata": {},
   "outputs": [
    {
     "name": "stdout",
     "output_type": "stream",
     "text": [
      "Failed to import pydot. You must install pydot and graphviz for `pydotprint` to work.\n"
     ]
    }
   ],
   "source": [
    "tf.keras.utils.plot_model(\n",
    "    model_test,\n",
    "    to_file='model.png',\n",
    "    show_shapes=True,\n",
    "    #show_dtype=False,\n",
    "    show_layer_names=True,\n",
    "    rankdir='TB',\n",
    "    #expand_nested=False,\n",
    "    #dpi=96,\n",
    "    #layer_range=None,\n",
    "    #show_layer_activations=False\n",
    ")\n"
   ]
  },
  {
   "cell_type": "code",
   "execution_count": 20,
   "id": "6edc0f99",
   "metadata": {},
   "outputs": [],
   "source": [
    "def display_learning_curves_iou(history, model_name):\n",
    "    iou = history.history[\"iou_score\"]\n",
    "    val_iou = history.history[\"val_iou_score\"]\n",
    "\n",
    "    fscore = history.history[\"f1-score\"]\n",
    "    val_fscore = history.history[\"val_f1-score\"]\n",
    "\n",
    "    loss = history.history[\"loss\"]\n",
    "    val_loss = history.history[\"val_loss\"]\n",
    "    epochs_range=range(1, len(iou) + 1)\n",
    "    #epochs_range = range(n_epochs)\n",
    "\n",
    "    fig = plt.figure(figsize=(15,5))\n",
    "\n",
    "    plt.subplot(1,3,1)\n",
    "    plt.plot(epochs_range, iou, label=\"train iou_score\")\n",
    "    plt.plot(epochs_range, val_iou, label=\"validataion iou_score\")\n",
    "    plt.title(\"iou_score\")\n",
    "    plt.xlabel(\"Epoch\")\n",
    "    plt.ylabel(\"iou_score\")\n",
    "    plt.legend(loc=\"upper left\")\n",
    "\n",
    "    plt.subplot(1,3,2)\n",
    "    plt.plot(epochs_range, fscore, label=\"train Dice coeff\")\n",
    "    plt.plot(epochs_range, val_fscore, label=\"validataion Dice coeff\")\n",
    "    plt.title(\"f1-score or Dice coeff\")\n",
    "    plt.xlabel(\"Epoch\")\n",
    "    plt.ylabel(\"f1-score\")\n",
    "    plt.legend(loc=\"upper left\")\n",
    "\n",
    "    plt.subplot(1,3,3)\n",
    "    plt.plot(epochs_range, loss, label=\"train loss\")\n",
    "    plt.plot(epochs_range, val_loss, label=\"validataion loss\")\n",
    "    plt.title(\"Loss\")\n",
    "    plt.xlabel(\"Epoch\")\n",
    "    plt.ylabel(\"Loss\")\n",
    "    plt.legend(loc=\"upper right\")\n",
    "\n",
    "    plt.suptitle(f\"IoU Socre, Dice Coeff and Loss evolution during {model_name} training, (stopped by callback at epochs : {len(iou)})  \")\n",
    "    #fig.tight_layout()\n",
    "    plt.show()"
   ]
  },
  {
   "cell_type": "code",
   "execution_count": 21,
   "id": "5da99bed",
   "metadata": {},
   "outputs": [
    {
     "data": {
      "image/png": "[encoded data removed]",
      "text/plain": [
       "<Figure size 1080x360 with 3 Axes>"
      ]
     },
     "metadata": {
      "needs_background": "light"
     },
     "output_type": "display_data"
    }
   ],
   "source": [
    "# Display learning curves \n",
    "display_learning_curves_iou(model_test.history, model_test.name)"
   ]
  },
  {
   "cell_type": "code",
   "execution_count": 22,
   "id": "58eb0247",
   "metadata": {},
   "outputs": [],
   "source": [
    "#saveResult(\"./results/val\",results)\n",
    "model_test.save('./Models/model_test_{model_test.name}.h5')"
   ]
  },
  {
   "cell_type": "code",
   "execution_count": 21,
   "id": "5325e34f",
   "metadata": {},
   "outputs": [
    {
     "name": "stdout",
     "output_type": "stream",
     "text": [
      "100/100 [==============================] - 53s 527ms/step\n"
     ]
    }
   ],
   "source": [
    "test_generators = GeneratorCitySpace(clean_df, n_sample, batch_size, resize_width, resize_height, 'test', augmentation)\n",
    "results = model_test.predict(test_generators,verbose=1)\n",
    "\n"
   ]
  },
  {
   "cell_type": "code",
   "execution_count": 24,
   "id": "a7885796",
   "metadata": {},
   "outputs": [
    {
     "data": {
      "text/plain": [
       "(500, 128, 256, 8)"
      ]
     },
     "execution_count": 24,
     "metadata": {},
     "output_type": "execute_result"
    }
   ],
   "source": [
    "results.shape\n",
    "#plt.show(results[0][:][:][:])\n",
    "#cv2.imshow('Image test', results[0][:][:][1])\n",
    "#cv2.waitKey(0)\n"
   ]
  },
  {
   "cell_type": "code",
   "execution_count": 25,
   "id": "4c9a89bb",
   "metadata": {},
   "outputs": [
    {
     "data": {
      "text/plain": [
       "(128, 256, 8)"
      ]
     },
     "execution_count": 25,
     "metadata": {},
     "output_type": "execute_result"
    }
   ],
   "source": [
    "results[0].shape"
   ]
  },
  {
   "cell_type": "code",
   "execution_count": 28,
   "id": "4259b621",
   "metadata": {},
   "outputs": [
    {
     "data": {
      "image/png": "[encoded data removed]",
      "text/plain": [
       "<Figure size 432x288 with 2 Axes>"
      ]
     },
     "metadata": {
      "needs_background": "light"
     },
     "output_type": "display_data"
    }
   ],
   "source": [
    "for j in range(2):\n",
    "    #print(filepaths[j])\n",
    "    plt.subplot(120 + 1 + j)\n",
    "    #plt.title(title[j])\n",
    "    image = results[j][:][:][1] #cv2.imread(filepaths[j])\n",
    "    plt.imshow(image)\n",
    "    plt.grid(False)\n",
    "#plt.suptitle(f'Images and Masks {(i[0])} {(i[1])}_{(i[4])}_{(i[5])}')\n",
    "plt.show()\n",
    "\n"
   ]
  },
  {
   "cell_type": "code",
   "execution_count": 15,
   "id": "652595ab",
   "metadata": {},
   "outputs": [],
   "source": [
    "# img = results[0][:][:][7] #(np.zeros(results[0][:][:][7]))\n",
    "# plt.imshow(\"image\", img)\n",
    "# plt.grid(False)\n",
    "# plt.show()"
   ]
  },
  {
   "cell_type": "code",
   "execution_count": 23,
   "id": "75124314",
   "metadata": {},
   "outputs": [
    {
     "data": {
      "text/plain": [
       "<tensorflow.python.keras.engine.training.Model at 0x209420989c8>"
      ]
     },
     "execution_count": 23,
     "metadata": {},
     "output_type": "execute_result"
    }
   ],
   "source": [
    "\n"
   ]
  },
  {
   "cell_type": "markdown",
   "id": "859dd0a5",
   "metadata": {},
   "source": []
  },
  {
   "cell_type": "code",
   "execution_count": 28,
   "id": "3b094433",
   "metadata": {},
   "outputs": [
    {
     "ename": "InvalidArgumentError",
     "evalue": "Incompatible shapes: [2621440] vs. [20971520]\n\t [[{{node metrics_6/dice_coeff/mul}}]]",
     "output_type": "error",
     "traceback": [
      "\u001b[1;31m---------------------------------------------------------------------------\u001b[0m",
      "\u001b[1;31mInvalidArgumentError\u001b[0m                      Traceback (most recent call last)",
      "\u001b[1;32mc:\\Users\\blanc\\anaconda3\\envs\\IA_Poject8\\lib\\site-packages\\tensorflow\\python\\keras\\api\\_v1\\keras\\optimizers\\__init__.py\u001b[0m in \u001b[0;36m<module>\u001b[1;34m\u001b[0m\n\u001b[0;32m     37\u001b[0m                             \u001b[0mvalidation_steps\u001b[0m\u001b[1;33m=\u001b[0m\u001b[1;36m10\u001b[0m\u001b[1;33m,\u001b[0m\u001b[1;33m\u001b[0m\u001b[1;33m\u001b[0m\u001b[0m\n\u001b[0;32m     38\u001b[0m                             \u001b[1;31m#steps_per_epoch=250,\u001b[0m\u001b[1;33m\u001b[0m\u001b[1;33m\u001b[0m\u001b[1;33m\u001b[0m\u001b[0m\n\u001b[1;32m---> 39\u001b[1;33m                             \u001b[0mepochs\u001b[0m\u001b[1;33m=\u001b[0m\u001b[1;36m1\u001b[0m\u001b[1;33m,\u001b[0m\u001b[1;33m\u001b[0m\u001b[1;33m\u001b[0m\u001b[0m\n\u001b[0m\u001b[0;32m     40\u001b[0m                             \u001b[1;31m#workers=30,\u001b[0m\u001b[1;33m\u001b[0m\u001b[1;33m\u001b[0m\u001b[1;33m\u001b[0m\u001b[0m\n\u001b[0;32m     41\u001b[0m                             \u001b[1;31m#verbose=1,\u001b[0m\u001b[1;33m\u001b[0m\u001b[1;33m\u001b[0m\u001b[1;33m\u001b[0m\u001b[0m\n",
      "\u001b[1;32mc:\\Users\\blanc\\anaconda3\\envs\\IA_Poject8\\lib\\site-packages\\tensorflow\\python\\keras\\engine\\training.py\u001b[0m in \u001b[0;36mfit_generator\u001b[1;34m(self, generator, steps_per_epoch, epochs, verbose, callbacks, validation_data, validation_steps, validation_freq, class_weight, max_queue_size, workers, use_multiprocessing, shuffle, initial_epoch)\u001b[0m\n\u001b[0;32m   1431\u001b[0m         \u001b[0mshuffle\u001b[0m\u001b[1;33m=\u001b[0m\u001b[0mshuffle\u001b[0m\u001b[1;33m,\u001b[0m\u001b[1;33m\u001b[0m\u001b[1;33m\u001b[0m\u001b[0m\n\u001b[0;32m   1432\u001b[0m         \u001b[0minitial_epoch\u001b[0m\u001b[1;33m=\u001b[0m\u001b[0minitial_epoch\u001b[0m\u001b[1;33m,\u001b[0m\u001b[1;33m\u001b[0m\u001b[1;33m\u001b[0m\u001b[0m\n\u001b[1;32m-> 1433\u001b[1;33m         steps_name='steps_per_epoch')\n\u001b[0m\u001b[0;32m   1434\u001b[0m \u001b[1;33m\u001b[0m\u001b[0m\n\u001b[0;32m   1435\u001b[0m   def evaluate_generator(self,\n",
      "\u001b[1;32mc:\\Users\\blanc\\anaconda3\\envs\\IA_Poject8\\lib\\site-packages\\tensorflow\\python\\keras\\engine\\training_generator.py\u001b[0m in \u001b[0;36mmodel_iteration\u001b[1;34m(model, data, steps_per_epoch, epochs, verbose, callbacks, validation_data, validation_steps, validation_freq, class_weight, max_queue_size, workers, use_multiprocessing, shuffle, initial_epoch, mode, batch_size, steps_name, **kwargs)\u001b[0m\n\u001b[0;32m    262\u001b[0m \u001b[1;33m\u001b[0m\u001b[0m\n\u001b[0;32m    263\u001b[0m       \u001b[0mis_deferred\u001b[0m \u001b[1;33m=\u001b[0m \u001b[1;32mnot\u001b[0m \u001b[0mmodel\u001b[0m\u001b[1;33m.\u001b[0m\u001b[0m_is_compiled\u001b[0m\u001b[1;33m\u001b[0m\u001b[1;33m\u001b[0m\u001b[0m\n\u001b[1;32m--> 264\u001b[1;33m       \u001b[0mbatch_outs\u001b[0m \u001b[1;33m=\u001b[0m \u001b[0mbatch_function\u001b[0m\u001b[1;33m(\u001b[0m\u001b[1;33m*\u001b[0m\u001b[0mbatch_data\u001b[0m\u001b[1;33m)\u001b[0m\u001b[1;33m\u001b[0m\u001b[1;33m\u001b[0m\u001b[0m\n\u001b[0m\u001b[0;32m    265\u001b[0m       \u001b[1;32mif\u001b[0m \u001b[1;32mnot\u001b[0m \u001b[0misinstance\u001b[0m\u001b[1;33m(\u001b[0m\u001b[0mbatch_outs\u001b[0m\u001b[1;33m,\u001b[0m \u001b[0mlist\u001b[0m\u001b[1;33m)\u001b[0m\u001b[1;33m:\u001b[0m\u001b[1;33m\u001b[0m\u001b[1;33m\u001b[0m\u001b[0m\n\u001b[0;32m    266\u001b[0m         \u001b[0mbatch_outs\u001b[0m \u001b[1;33m=\u001b[0m \u001b[1;33m[\u001b[0m\u001b[0mbatch_outs\u001b[0m\u001b[1;33m]\u001b[0m\u001b[1;33m\u001b[0m\u001b[1;33m\u001b[0m\u001b[0m\n",
      "\u001b[1;32mc:\\Users\\blanc\\anaconda3\\envs\\IA_Poject8\\lib\\site-packages\\tensorflow\\python\\keras\\engine\\training.py\u001b[0m in \u001b[0;36mtrain_on_batch\u001b[1;34m(self, x, y, sample_weight, class_weight, reset_metrics)\u001b[0m\n\u001b[0;32m   1173\u001b[0m       \u001b[0mself\u001b[0m\u001b[1;33m.\u001b[0m\u001b[0m_update_sample_weight_modes\u001b[0m\u001b[1;33m(\u001b[0m\u001b[0msample_weights\u001b[0m\u001b[1;33m=\u001b[0m\u001b[0msample_weights\u001b[0m\u001b[1;33m)\u001b[0m\u001b[1;33m\u001b[0m\u001b[1;33m\u001b[0m\u001b[0m\n\u001b[0;32m   1174\u001b[0m       \u001b[0mself\u001b[0m\u001b[1;33m.\u001b[0m\u001b[0m_make_train_function\u001b[0m\u001b[1;33m(\u001b[0m\u001b[1;33m)\u001b[0m\u001b[1;33m\u001b[0m\u001b[1;33m\u001b[0m\u001b[0m\n\u001b[1;32m-> 1175\u001b[1;33m       \u001b[0moutputs\u001b[0m \u001b[1;33m=\u001b[0m \u001b[0mself\u001b[0m\u001b[1;33m.\u001b[0m\u001b[0mtrain_function\u001b[0m\u001b[1;33m(\u001b[0m\u001b[0mins\u001b[0m\u001b[1;33m)\u001b[0m  \u001b[1;31m# pylint: disable=not-callable\u001b[0m\u001b[1;33m\u001b[0m\u001b[1;33m\u001b[0m\u001b[0m\n\u001b[0m\u001b[0;32m   1176\u001b[0m \u001b[1;33m\u001b[0m\u001b[0m\n\u001b[0;32m   1177\u001b[0m     \u001b[1;32mif\u001b[0m \u001b[0mreset_metrics\u001b[0m\u001b[1;33m:\u001b[0m\u001b[1;33m\u001b[0m\u001b[1;33m\u001b[0m\u001b[0m\n",
      "\u001b[1;32mc:\\Users\\blanc\\anaconda3\\envs\\IA_Poject8\\lib\\site-packages\\tensorflow\\python\\keras\\backend.py\u001b[0m in \u001b[0;36m__call__\u001b[1;34m(self, inputs)\u001b[0m\n\u001b[0;32m   3290\u001b[0m \u001b[1;33m\u001b[0m\u001b[0m\n\u001b[0;32m   3291\u001b[0m     fetched = self._callable_fn(*array_vals,\n\u001b[1;32m-> 3292\u001b[1;33m                                 run_metadata=self.run_metadata)\n\u001b[0m\u001b[0;32m   3293\u001b[0m     \u001b[0mself\u001b[0m\u001b[1;33m.\u001b[0m\u001b[0m_call_fetch_callbacks\u001b[0m\u001b[1;33m(\u001b[0m\u001b[0mfetched\u001b[0m\u001b[1;33m[\u001b[0m\u001b[1;33m-\u001b[0m\u001b[0mlen\u001b[0m\u001b[1;33m(\u001b[0m\u001b[0mself\u001b[0m\u001b[1;33m.\u001b[0m\u001b[0m_fetches\u001b[0m\u001b[1;33m)\u001b[0m\u001b[1;33m:\u001b[0m\u001b[1;33m]\u001b[0m\u001b[1;33m)\u001b[0m\u001b[1;33m\u001b[0m\u001b[1;33m\u001b[0m\u001b[0m\n\u001b[0;32m   3294\u001b[0m     output_structure = nest.pack_sequence_as(\n",
      "\u001b[1;32mc:\\Users\\blanc\\anaconda3\\envs\\IA_Poject8\\lib\\site-packages\\tensorflow\\python\\client\\session.py\u001b[0m in \u001b[0;36m__call__\u001b[1;34m(self, *args, **kwargs)\u001b[0m\n\u001b[0;32m   1456\u001b[0m         ret = tf_session.TF_SessionRunCallable(self._session._session,\n\u001b[0;32m   1457\u001b[0m                                                \u001b[0mself\u001b[0m\u001b[1;33m.\u001b[0m\u001b[0m_handle\u001b[0m\u001b[1;33m,\u001b[0m \u001b[0margs\u001b[0m\u001b[1;33m,\u001b[0m\u001b[1;33m\u001b[0m\u001b[1;33m\u001b[0m\u001b[0m\n\u001b[1;32m-> 1458\u001b[1;33m                                                run_metadata_ptr)\n\u001b[0m\u001b[0;32m   1459\u001b[0m         \u001b[1;32mif\u001b[0m \u001b[0mrun_metadata\u001b[0m\u001b[1;33m:\u001b[0m\u001b[1;33m\u001b[0m\u001b[1;33m\u001b[0m\u001b[0m\n\u001b[0;32m   1460\u001b[0m           \u001b[0mproto_data\u001b[0m \u001b[1;33m=\u001b[0m \u001b[0mtf_session\u001b[0m\u001b[1;33m.\u001b[0m\u001b[0mTF_GetBuffer\u001b[0m\u001b[1;33m(\u001b[0m\u001b[0mrun_metadata_ptr\u001b[0m\u001b[1;33m)\u001b[0m\u001b[1;33m\u001b[0m\u001b[1;33m\u001b[0m\u001b[0m\n",
      "\u001b[1;31mInvalidArgumentError\u001b[0m: Incompatible shapes: [2621440] vs. [20971520]\n\t [[{{node metrics_6/dice_coeff/mul}}]]"
     ]
    }
   ],
   "source": [
    "#Load model architecture\n",
    "model_test = build_unet((resize_width, resize_height, 3), nb_class)\n",
    "\n",
    "# Ffrom Kaggle https://www.kaggle.com/code/michaelcripman/road-segmentation-unet-keras-implementation\n",
    "# Or From GitHub : https://github.com/srihari-humbarwadi/cityscapes-segmentation-with-Unet/blob/master/batch_training.py\n",
    "def dice_coeff(y_true, y_pred):\n",
    "    smooth = 1.\n",
    "    y_true_f = K.flatten(y_true)\n",
    "    y_pred_f = K.flatten(y_pred)\n",
    "    intersection = K.sum(y_true_f * y_pred_f)\n",
    "    score = (2. * intersection + smooth) / (K.sum(y_true_f) + K.sum(y_pred_f) + smooth)\n",
    "    return score\n",
    "        \n",
    "#metrics=[dice_coeff(y_true, y_pred), tf.keras.metrics.MeanIoU(30, name = 'iou')]\n",
    "metrics=[dice_coeff, 'accuracy']\n",
    "#metrics=['accuracy']\n",
    "\n",
    "# Fit model\n",
    "#earlystopper = EarlyStopping(patience=3, verbose=1)\n",
    "#checkpointer = ModelCheckpoint('model-dsbowl2018-1.h5', verbose=1, save_best_only=True)\n",
    "#checkpointer = ModelCheckpoint('unet_membrane.hdf5', monitor='loss',verbose=1, save_best_only=True)\n",
    "tb = TensorBoard(log_dir='logs', write_graph=True)\n",
    "mc = ModelCheckpoint(mode='max', filepath='models/unet_1_lossDICE.h5', monitor='acc', save_best_only='True', save_weights_only='True', verbose=1)\n",
    "es = EarlyStopping(mode='max', monitor='acc', patience=6, verbose=1)\n",
    "callbacks = [tb, mc, es]\n",
    "\n",
    "\n",
    "# The learning rate used during optimization using Adam.\n",
    "learning_rate = \"0.001\"  #@param [ \"0.1\" , \"0.001\" , \"0.0001\" , \"0.05\" ]\n",
    "#Train model\n",
    "model_test.compile(optimizer=Adam(lr = 1e-5), loss='sparse_categorical_crossentropy',metrics=metrics)\n",
    "\n",
    "#model_test.summary()\n",
    "results = model_test.fit_generator(\n",
    "                            train_generators, \n",
    "                            validation_data=val_generators, \n",
    "                            validation_steps=10, \n",
    "                            #steps_per_epoch=250,\n",
    "                            epochs=1, \n",
    "                            #workers=30,\n",
    "                            #verbose=1,\n",
    "                            #use_multiprocessing=True,\n",
    "                            #callbacks=[earlystopper,checkpointer] #callbacks\n",
    "                            )"
   ]
  },
  {
   "cell_type": "code",
   "execution_count": null,
   "id": "af5a5e44",
   "metadata": {},
   "outputs": [],
   "source": [
    "# Ffrom Kaggle https://www.kaggle.com/code/michaelcripman/road-segmentation-unet-keras-implementation\n",
    "def dice_coeff(y_true, y_pred):\n",
    "    smooth = 1.\n",
    "    y_true_f = K.flatten(y_true)\n",
    "    y_pred_f = K.flatten(y_pred)\n",
    "    intersection = K.sum(y_true_f * y_pred_f)\n",
    "    score = (2. * intersection + smooth) / (K.sum(y_true_f) + K.sum(y_pred_f) + smooth)\n",
    "    return score\n",
    "        \n",
    "#metrics=[dice_coeff(y_true, y_pred), tf.keras.metrics.MeanIoU(30, name = 'iou')]\n",
    "metrics=[dice_coeff(y_true, y_pred), 'accuracy']\n",
    "\n",
    "\n",
    "def dice_loss(y_true, y_pred):\n",
    "    loss = 1 - dice_coeff(y_true, y_pred)\n",
    "    return loss\n",
    "\n",
    "def total_loss(y_true, y_pred):\n",
    "    loss = binary_crossentropy(y_true, y_pred) + (3*dice_loss(y_true, y_pred))\n",
    "    return loss\n",
    "\n",
    "\n",
    "#From Blog : https://lars76.github.io/2018/09/27/loss-functions-for-segmentation.html\n",
    "def dice_loss(y_true, y_pred):\n",
    "  y_true = tf.cast(y_true, tf.float32)\n",
    "  y_pred = tf.math.sigmoid(y_pred)\n",
    "  numerator = 2 * tf.reduce_sum(y_true * y_pred)\n",
    "  denominator = tf.reduce_sum(y_true + y_pred)\n",
    "\n",
    "  return 1 - numerator / denominator"
   ]
  },
  {
   "cell_type": "code",
   "execution_count": null,
   "id": "8f351ca9",
   "metadata": {},
   "outputs": [],
   "source": [
    "# segmentation_models could also use `tf.keras` if you do not have Keras installed\n",
    "# or you could switch to other framework using `sm.set_framework('tf.keras')`\n",
    "import tensorflow.keras.segmentation_models as sm\n",
    "\n",
    "# define optomizer\n",
    "optim = tensorflow.keras.optimizers.Adam(LR)\n",
    "\n",
    "# Segmentation models losses can be combined together by '+' and scaled by integer or float factor\n",
    "# set class weights for dice_loss (car: 1.; pedestrian: 2.; background: 0.5;)\n",
    "dice_loss = sm.losses.DiceLoss(class_weights=np.array([1, 2, 0.5])) \n",
    "focal_loss = sm.losses.BinaryFocalLoss() if n_classes == 1 else sm.losses.CategoricalFocalLoss()\n",
    "total_loss = dice_loss + (1 * focal_loss)\n",
    "\n",
    "# actulally total_loss can be imported directly from library, above example just show you how to manipulate with losses\n",
    "# total_loss = sm.losses.binary_focal_dice_loss # or sm.losses.categorical_focal_dice_loss \n",
    "\n",
    "metrics = [sm.metrics.IOUScore(threshold=0.5), sm.metrics.FScore(threshold=0.5)]\n"
   ]
  },
  {
   "cell_type": "code",
   "execution_count": 24,
   "id": "0e6b86bb",
   "metadata": {},
   "outputs": [],
   "source": []
  },
  {
   "cell_type": "code",
   "execution_count": null,
   "id": "d27d6ca2",
   "metadata": {},
   "outputs": [],
   "source": []
  },
  {
   "cell_type": "markdown",
   "id": "915a08ad",
   "metadata": {},
   "source": [
    "# Fonction de Loss"
   ]
  },
  {
   "cell_type": "code",
   "execution_count": null,
   "id": "9e5285d3",
   "metadata": {},
   "outputs": [],
   "source": [
    "def dice_coeff(y_true, y_pred,smooth=1.):\n",
    "    y_true_f = K.cast(K.flatten(y_true), K.floatx())\n",
    "    y_pred_f = K.cast(K.flatten(y_pred), K.floatx())\n",
    "    intersection = K.sum(y_true_f * y_pred_f)\n",
    "    union = K.sum(y_true_f) +  K.sum(y_pred_f)\n",
    "    score = (2. * intersection + smooth) / (union + smooth)\n",
    "    return score\n",
    "\n",
    "def dice_loss(y_true, y_pred):\n",
    "    return 1 - dice_coeff(y_true, y_pred)\n",
    "\n",
    "def combinaison_loss(y_true, y_pred):\n",
    "    loss = categorical_crossentropy(y_true, y_pred) + (3.*dice_loss(y_true, y_pred))\n",
    "    return loss\n",
    "\n",
    "def combinaison_loss_2(y_true, y_pred):\n",
    "    loss = categorical_crossentropy(y_true, y_pred) + dice_loss(y_true, y_pred)\n",
    "    return loss\n",
    "\n",
    "# def dice_coeff(pred, target):\n",
    "#     pred = (pred > 0).float()\n",
    "#     return 2. * (pred*target).sum() / (pred+target).sum()\n",
    "            "
   ]
  },
  {
   "cell_type": "code",
   "execution_count": null,
   "id": "e6274f5a",
   "metadata": {},
   "outputs": [],
   "source": [
    "model_checkpoint_dice_loss, file_weight_dice_loss = fnct.create_checkpoint_callback(\"./checkpoint/\",\"model_unet_dice_loss\", mean_iou_metric)"
   ]
  },
  {
   "cell_type": "code",
   "execution_count": null,
   "id": "2995dc4c",
   "metadata": {},
   "outputs": [],
   "source": [
    "history = model_test.fit(data_train,  \n",
    "                    verbose=1,\n",
    "                    epochs=50,\n",
    "                    use_multiprocessing=True,\n",
    "                    workers=30,\n",
    "                    validation_data=data_val,\n",
    "                    callbacks=[model_checkpoint_dice_loss])"
   ]
  },
  {
   "cell_type": "code",
   "execution_count": null,
   "id": "8511065b",
   "metadata": {},
   "outputs": [],
   "source": [
    "#Load model architecture\n",
    "model_test = build_unet((resize_width, resize_height), nb_class)\n",
    "model_test.compile(optimizer=\"adam\", loss=dice_loss,metrics=[mean_iou_metric])"
   ]
  },
  {
   "cell_type": "code",
   "execution_count": null,
   "id": "ca334ed2",
   "metadata": {},
   "outputs": [],
   "source": [
    "plot_history(history,scoring=[\"mean_iou\",\"loss\"],log_scale=[False,True])"
   ]
  },
  {
   "cell_type": "code",
   "execution_count": null,
   "id": "ffd96ef0",
   "metadata": {},
   "outputs": [],
   "source": [
    "loss_score, mean_iou_score = model_test.evaluate(data_val)\n",
    "print(\"Le meilleur modèle obtient un score de :\",mean_iou_score)\n",
    "print(\"Le score final de la fonction loss est de :\",loss_score)"
   ]
  }
 ],
 "metadata": {
  "kernelspec": {
   "display_name": "Python 3.7.13 ('IA_Project8_gpu')",
   "language": "python",
   "name": "python3"
  },
  "language_info": {
   "codemirror_mode": {
    "name": "ipython",
    "version": 3
   },
   "file_extension": ".py",
   "mimetype": "text/x-python",
   "name": "python",
   "nbconvert_exporter": "python",
   "pygments_lexer": "ipython3",
   "version": "3.7.13"
  },
  "vscode": {
   "interpreter": {
    "hash": "37e82b8de0ca04c20a1bf396b25e4fddd9a4c7101b46cea8b1ecc1a92174473c"
   }
  }
 },
 "nbformat": 4,
 "nbformat_minor": 5
}
